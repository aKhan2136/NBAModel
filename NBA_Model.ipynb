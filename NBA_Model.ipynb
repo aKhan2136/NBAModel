{
  "nbformat": 4,
  "nbformat_minor": 0,
  "metadata": {
    "colab": {
      "name": "NBA Model.ipynb",
      "provenance": [],
      "collapsed_sections": []
    },
    "kernelspec": {
      "name": "python3",
      "display_name": "Python 3"
    },
    "language_info": {
      "name": "python"
    }
  },
  "cells": [
    {
      "cell_type": "code",
      "metadata": {
        "id": "Kd4fnjyVNA8J"
      },
      "source": [
        "import numpy as np\n",
        "import pandas as pd\n",
        "\n",
        "import matplotlib.pyplot as plt\n",
        "import seaborn as sns\n",
        "from sklearn.model_selection import train_test_split\n",
        "from sklearn.linear_model import LinearRegression\n"
      ],
      "execution_count": null,
      "outputs": []
    },
    {
      "cell_type": "code",
      "source": [
        "# Yuvraj's code for cleaning names; replace with appropriate dataframe where necessary\n",
        "def cleanNames(dataset):\n",
        "  names_list = np.array(dataset['Player'].astype(str))\n",
        "\n",
        "  # cleaning the name values of any unnecessary characters \n",
        "  clean_names_list = []\n",
        "  for i in range(len(names_list)):\n",
        "    clean_names_list.append(names_list[i].strip('0123456789qwertyuiopasdfghjklzxcvbnm').strip('\\\\'))\n",
        "  dataset['Player']=dataset['Player'].replace(names_list,clean_names_list)\n",
        "\n",
        "  # making a unique dataframe with no repeating player names\n",
        "  dataset = dataset.drop_duplicates(subset='Player')\n",
        "  dataset = dataset[dataset['G'] > 42]\n",
        "\n",
        "  return dataset\n",
        "\n"
      ],
      "metadata": {
        "id": "yQ4O6_AJhsbQ"
      },
      "execution_count": null,
      "outputs": []
    },
    {
      "cell_type": "code",
      "source": [
        "# continuation of Yuvraj's work, copy/ paste it elsewhere/ alter the variable names as needed for the approprite datasets\n",
        "def mergeStatsSalaries(stats_dataset, salary_dataset, salary_column_num):\n",
        "  salary_dataset = salary_dataset.rename(columns={'Name/ Team':'Player'})\n",
        "\n",
        "  # getting messy names list\n",
        "  salary_names_list = np.array(salary_dataset['Player'].astype(str))\n",
        "\n",
        "  # cleaning name values\n",
        "  clean_salary_names_list = []\n",
        "  for i in range(len(salary_names_list)):\n",
        "    clean_salary_names_list.append(salary_names_list[i].rstrip('QWERTYUIOPASDFGHJKLZXCVBNM').strip())\n",
        "  salary_dataset['Player']=salary_dataset['Player'].replace(salary_names_list, clean_salary_names_list)\n",
        "\n",
        "  # unique names df, removing unnecessary data\n",
        "  new_salary_df = salary_dataset.drop_duplicates(subset='Player')\n",
        "  new_salary_df.drop('Rank', axis=1, inplace=True)\n",
        "  new_salary_df.drop('Position', axis=1, inplace=True)\n",
        "  new_salary_df.drop('Age', axis=1, inplace=True)\n",
        "\n",
        "  # merging dataframes\n",
        "  combined_stats_salaries_df = pd.merge(stats_dataset,new_salary_df, how=\"inner\", on=\"Player\")\n",
        " \n",
        "  # changes average salary numbers to integers, allowing them to be seen in the correlation below\n",
        "  combined_stats_salaries_df[combined_stats_salaries_df.columns[salary_column_num:]] = combined_stats_salaries_df[combined_stats_salaries_df.columns[salary_column_num:]].replace('[\\D,]', '', regex=True).astype(float)\n",
        "  return combined_stats_salaries_df"
      ],
      "metadata": {
        "id": "KMozxfsaXnom"
      },
      "execution_count": null,
      "outputs": []
    },
    {
      "cell_type": "code",
      "metadata": {
        "id": "zroRHNy0NliG"
      },
      "source": [
        "# use this block to store player statistical data from the 2018-2019, 2019-2020 and 2020-2021 seasons\n",
        "\n",
        "per_game_dataset_2019 = pd.read_csv(\"PerGameStats2018-2019 - Sheet1.csv\")\n",
        "per_game_dataset_2020 = pd.read_csv(\"PerGameStats2019_2020 - Sheet1.csv\")\n",
        "per_game_dataset_2021 = pd.read_csv(\"PerGameStats2020_2021 - Sheet1.csv\")\n",
        "\n",
        "\n",
        "\n",
        "\n"
      ],
      "execution_count": null,
      "outputs": []
    },
    {
      "cell_type": "code",
      "source": [
        "# Advanced Stats + per 36 stats\n",
        "\n",
        "advanced_dataset_2019 = pd.read_csv(\"AdvancedStats2018_2019 - Sheet1.csv\")\n",
        "advanced_dataset_2020 = pd.read_csv(\"AdvancedStats2019_2020 - Sheet1.csv\")\n",
        "advanced_dataset_2021 = pd.read_csv(\"AdvancedStats2020_2021 - Sheet1.csv\")\n",
        "\n",
        "per36_dataset_2019 = pd.read_csv(\"Per36Stats2018_2019 - Sheet1.csv\")\n",
        "per36_dataset_2020 = pd.read_csv(\"Per36Stats2019_2020 - Sheet1.csv\")\n",
        "per36_dataset_2021 = pd.read_csv(\"Per36Stats2020_2021 - Sheet1.csv\")\n",
        "\n",
        "salaries_dataset_2019 = pd.read_csv(\"PlayerSalaries2019-2020 - Sheet1.csv\")\n",
        "salaries_dataset_2020 = pd.read_csv(\"PlayerSalaries2020-2021 - Sheet1.csv\")\n",
        "salaries_dataset_2021 = pd.read_csv(\"PlayerSalaries2021-2022 - Sheet1.csv\")\n"
      ],
      "metadata": {
        "id": "ieJz0F76V8Ia"
      },
      "execution_count": null,
      "outputs": []
    },
    {
      "cell_type": "code",
      "source": [
        "# cleaninging names and merging stats\n",
        "# per 36 stats\n",
        "clean_per36_df = cleanNames(per36_dataset_2019)\n",
        "combined_per36_2019 = mergeStatsSalaries(clean_per36_df, salaries_dataset_2019, 30)\n",
        "\n",
        "\n",
        "clean_per36_df = cleanNames(per36_dataset_2020)\n",
        "combined_per36_2020 = mergeStatsSalaries(clean_per36_df, salaries_dataset_2020, 30)\n",
        "\n",
        "clean_per36_df = cleanNames(per36_dataset_2021)\n",
        "combined_per36_2021 = mergeStatsSalaries(clean_per36_df, salaries_dataset_2021, 30)\n"
      ],
      "metadata": {
        "colab": {
          "base_uri": "https://localhost:8080/"
        },
        "id": "XW-h1hVUFaXC",
        "outputId": "1af4f76c-3d1c-4884-8051-f990c5741930"
      },
      "execution_count": null,
      "outputs": [
        {
          "output_type": "stream",
          "name": "stderr",
          "text": [
            "/usr/local/lib/python3.7/dist-packages/pandas/core/frame.py:4913: SettingWithCopyWarning: \n",
            "A value is trying to be set on a copy of a slice from a DataFrame\n",
            "\n",
            "See the caveats in the documentation: https://pandas.pydata.org/pandas-docs/stable/user_guide/indexing.html#returning-a-view-versus-a-copy\n",
            "  errors=errors,\n"
          ]
        }
      ]
    },
    {
      "cell_type": "code",
      "source": [
        "# advanced stats\n",
        "clean_advanced_df = cleanNames(advanced_dataset_2019)\n",
        "combined_advanced_2019 = mergeStatsSalaries(clean_advanced_df, salaries_dataset_2019, 30)\n",
        "\n",
        "clean_advanced_df = cleanNames(advanced_dataset_2020)\n",
        "combined_advanced_2020 = mergeStatsSalaries(clean_advanced_df, salaries_dataset_2020, 30)\n",
        "\n",
        "clean_advanced_df = cleanNames(advanced_dataset_2021)\n",
        "combined_advanced_2021 = mergeStatsSalaries(clean_advanced_df, salaries_dataset_2021, 30)\n",
        "print(combined_advanced_2019)"
      ],
      "metadata": {
        "colab": {
          "base_uri": "https://localhost:8080/"
        },
        "id": "ITf_BfaTKk9f",
        "outputId": "5f1f5d0a-b167-4e7d-f29a-c16ce55aece2"
      },
      "execution_count": null,
      "outputs": [
        {
          "output_type": "stream",
          "name": "stderr",
          "text": [
            "/usr/local/lib/python3.7/dist-packages/pandas/core/frame.py:4913: SettingWithCopyWarning: \n",
            "A value is trying to be set on a copy of a slice from a DataFrame\n",
            "\n",
            "See the caveats in the documentation: https://pandas.pydata.org/pandas-docs/stable/user_guide/indexing.html#returning-a-view-versus-a-copy\n",
            "  errors=errors,\n"
          ]
        },
        {
          "output_type": "stream",
          "name": "stdout",
          "text": [
            "      Rk             Player Pos  Age   Tm   G    MP   PER    TS%   3PAr  ...  \\\n",
            "0      4       Steven Adams   C   25  OKC  80  2669  18.5  0.591  0.002  ...   \n",
            "1      5        Bam Adebayo   C   21  MIA  82  1913  17.9  0.623  0.031  ...   \n",
            "2      8  LaMarcus Aldridge   C   33  SAS  81  2687  22.9  0.576  0.032  ...   \n",
            "3     11      Jarrett Allen   C   20  BRK  80  2096  18.5  0.632  0.079  ...   \n",
            "4     13    Al-Farouq Aminu  PF   28  POR  81  2292  13.2  0.568  0.472  ...   \n",
            "..   ...                ...  ..  ...  ...  ..   ...   ...    ...    ...  ...   \n",
            "271  522       Delon Wright  PG   26  TOT  75  1699  15.5  0.523  0.301  ...   \n",
            "272  525     Thaddeus Young  PF   30  IND  81  2489  16.2  0.569  0.174  ...   \n",
            "273  526         Trae Young  PG   20  ATL  81  2503  17.0  0.539  0.384  ...   \n",
            "274  527        Cody Zeller   C   26  CHO  49  1243  17.2  0.611  0.064  ...   \n",
            "275  530        Ivica Zubac   C   21  TOT  59  1040  18.9  0.604  0.000  ...   \n",
            "\n",
            "     OWS  DWS   WS  WS/48  Unnamed: 24  OBPM  DBPM  BPM  VORP  Average Salary  \n",
            "0    5.1  4.0  9.1  0.163          NaN   0.7   0.4  1.1   2.1     $25,000,000  \n",
            "1    3.4  3.4  6.8  0.171          NaN  -0.4   2.2  1.8   1.8      $3,503,943  \n",
            "2    6.4  2.9  9.3  0.167          NaN   2.4  -0.6  1.8   2.6     $25,000,000  \n",
            "3    4.4  3.3  7.6  0.175          NaN   0.2   1.4  1.6   1.9      $2,508,646  \n",
            "4    3.0  2.8  5.8  0.121          NaN   0.1   0.6  0.7   1.5      $9,720,900  \n",
            "..   ...  ...  ...    ...          ...   ...   ...  ...   ...             ...  \n",
            "271  1.9  2.4  4.3  0.121          NaN   0.1   1.4  1.5   1.5      $9,350,000  \n",
            "272  3.0  3.9  6.9  0.133          NaN   0.4   1.1  1.5   2.2     $14,545,000  \n",
            "273  2.5  0.7  3.3  0.062          NaN   2.3  -2.8 -0.6   0.9      $6,631,928  \n",
            "274  2.6  1.2  3.9  0.150          NaN  -0.6   0.7  0.1   0.7     $14,000,000  \n",
            "275  1.9  1.3  3.2  0.148          NaN  -0.2  -0.2 -0.5   0.4      $7,000,000  \n",
            "\n",
            "[276 rows x 30 columns]\n"
          ]
        }
      ]
    },
    {
      "cell_type": "code",
      "source": [
        "# per game stats\n",
        "clean_per_df = cleanNames(per_game_dataset_2019)\n",
        "combined_per_game_2019 = mergeStatsSalaries(clean_per36_df, salaries_dataset_2019, 30)\n",
        "\n",
        "clean_per_df = cleanNames(per_game_dataset_2020)\n",
        "combined_per_game_2020 = mergeStatsSalaries(clean_per_df, salaries_dataset_2020, 31)\n",
        "\n",
        "clean_per_game_df = cleanNames(per_game_dataset_2021)\n",
        "combined_per_game_2021 = mergeStatsSalaries(clean_per36_df, salaries_dataset_2021, 30)\n",
        "\n"
      ],
      "metadata": {
        "colab": {
          "base_uri": "https://localhost:8080/"
        },
        "id": "clRhxgehKbxw",
        "outputId": "1aa8c12e-3d5b-4b32-d181-938ea67afae9"
      },
      "execution_count": null,
      "outputs": [
        {
          "output_type": "stream",
          "name": "stderr",
          "text": [
            "/usr/local/lib/python3.7/dist-packages/pandas/core/frame.py:4913: SettingWithCopyWarning: \n",
            "A value is trying to be set on a copy of a slice from a DataFrame\n",
            "\n",
            "See the caveats in the documentation: https://pandas.pydata.org/pandas-docs/stable/user_guide/indexing.html#returning-a-view-versus-a-copy\n",
            "  errors=errors,\n"
          ]
        }
      ]
    },
    {
      "cell_type": "code",
      "source": [
        "set_of_datasets = [[combined_per36_2019, \"Per 36 Stats vs Salary 2019\"],  [combined_per36_2020, \"Per 36 Stats vs Salary 2020\"], [combined_per36_2021, \"Per 36 Stats vs Salary 2021\"],\n",
        "                   [combined_advanced_2019, \"Advanced Stats vs Salary 2019\"], [combined_advanced_2020, \"Advanced Stats vs Salary 2020\"], [combined_advanced_2021, \"Advanced Stats vs Salary 2021\"],\n",
        "                   [combined_per_game_2019, \"Per Game Stats vs Salary 2019\"], [combined_per_game_2020, \"Per Game Stats vs Salary 2020\"], [combined_per_game_2021, \"Per Game Stats vs Salary 2021\"]]"
      ],
      "metadata": {
        "id": "owB_OFGINwfg"
      },
      "execution_count": null,
      "outputs": []
    },
    {
      "cell_type": "code",
      "source": [
        "combined_per36_col_list_2019 = ['GS', 'MP', 'FG', 'PTS','FGA','FT', 'FTA', 'Average Salary']\n",
        "combined_per36_col_list_2020 = ['GS', 'MP', 'FG', 'PTS','FGA','FT', 'FTA', 'Average Salary']\n",
        "combined_per36_col_list_2021 = ['GS', 'MP', 'FG', 'PTS','FGA','FT', 'FTA', 'Average Salary']"
      ],
      "metadata": {
        "id": "BrYw3i0Eu-JM"
      },
      "execution_count": null,
      "outputs": []
    },
    {
      "cell_type": "code",
      "source": [
        "\n",
        "combined_advanced_col_list_2019 = ['VORP', 'OBPM', 'BPM', 'WS', 'PER', 'OWS', 'USG%', 'Average Salary']\n",
        "combined_advanced_col_list_2020 = ['VORP', 'OBPM', 'BPM', 'WS', 'PER', 'OWS', 'USG%', 'Average Salary']\n",
        "combined_advanced_col_list_2021 = ['VORP', 'OBPM', 'BPM', 'WS', 'PER', 'OWS', 'USG%', 'Average Salary']"
      ],
      "metadata": {
        "id": "nFSaovfdvB26"
      },
      "execution_count": null,
      "outputs": []
    },
    {
      "cell_type": "code",
      "source": [
        "combined_per_game_col_list_2019 = []"
      ],
      "metadata": {
        "id": "dW4E6RQ5vBrz"
      },
      "execution_count": null,
      "outputs": []
    },
    {
      "cell_type": "code",
      "source": [
        "# showing correlations\n",
        "counter = 0\n",
        "for i, j in set_of_datasets:\n",
        "  showCorrelation(i, j)\n",
        "\n",
        "\n",
        "\n",
        "test_df = combined_per36_2019[combined_per36_col_list_2019]\n",
        "\n",
        "model_loading_list = \n",
        "\n"
      ],
      "metadata": {
        "colab": {
          "base_uri": "https://localhost:8080/",
          "height": 130
        },
        "id": "qO3Ek54KHW2g",
        "outputId": "fb3a48bf-4389-4181-eb78-49b66222bf39"
      },
      "execution_count": null,
      "outputs": [
        {
          "output_type": "error",
          "ename": "SyntaxError",
          "evalue": "ignored",
          "traceback": [
            "\u001b[0;36m  File \u001b[0;32m\"<ipython-input-14-6d97024292e3>\"\u001b[0;36m, line \u001b[0;32m10\u001b[0m\n\u001b[0;31m    model_loading_list =\u001b[0m\n\u001b[0m                         ^\u001b[0m\n\u001b[0;31mSyntaxError\u001b[0m\u001b[0;31m:\u001b[0m invalid syntax\n"
          ]
        }
      ]
    },
    {
      "cell_type": "code",
      "source": [
        "def showCorrelation(dataset, title): \n",
        "  plt.figure(figsize = (20, 20))\n",
        "  plt.title('{}'.format(title), fontsize = 20)\n",
        "  sns.set(font_scale = 1.1)\n",
        "\n",
        "  corr = dataset.corr()\n",
        "\n",
        "  mask = np.zeros_like(corr, dtype=np.bool)\n",
        "  mask[np.triu_indices_from(mask)] = True\n",
        "  # heatmap needs slight reworking to fix problem with\n",
        "  dataset_heatmap = sns.heatmap(\n",
        "      data = corr,\n",
        "      cmap = 'coolwarm', \n",
        "      square = True,\n",
        "      cbar = False,\n",
        "      annot = True,\n",
        "      mask = mask,\n",
        "      fmt = \".2g\"\n",
        "      )\n",
        "  plt.show()\n"
      ],
      "metadata": {
        "id": "-eToE33JS2gQ"
      },
      "execution_count": null,
      "outputs": []
    },
    {
      "cell_type": "code",
      "source": [
        "def loadModel(dataset, category, year):\n",
        "  #Enter your code below in this cell, can pick any number of columns - should only be 5-10 columns left\n",
        "\n",
        "  X = dataset.iloc[:, :-1].values\n",
        "\n",
        "  # save this line for the salary column\n",
        "  Y = dataset.iloc[:, 7:].values\n",
        "  # Train Test Split \n",
        "  X_train, X_test, Y_train, Y_test = train_test_split( \n",
        "        X, Y, test_size = 1/3, random_state = 0 )\n",
        "\n",
        "  model = LinearRegression()\n",
        "  model.fit( X_train, Y_train )\n",
        "  Y_pred = model.predict(X_test)\n",
        "\n",
        "  plt.scatter( X_test[:,0], Y_test, color = 'blue' )\n",
        "\n",
        "  print(\"Predicted Salaries: \",np.round(Y_pred[:5],2),\"\\n Actual Salaries: \",Y_test[:5])\n",
        "  print(Y_pred.shape)\n",
        "  #plt.plot( X_test[:,0], Y_pred, color = 'blue' )\n",
        "\n",
        "  plt.title( 'Predcted Salaries vs Real Salaries {} {}'.format(category, year) )\n",
        "        \n",
        "  plt.xlabel( 'Predicted' )\n",
        "        \n",
        "  plt.ylabel( 'Real' )\n",
        "\n",
        "  plt.show()\n",
        "\n",
        "loadModel(combined_per36_col_list_2019)\n"
      ],
      "metadata": {
        "id": "11Y_o9q3QFoO",
        "colab": {
          "base_uri": "https://localhost:8080/",
          "height": 200
        },
        "outputId": "dee84b1e-407f-423f-98b8-b8d153911e46"
      },
      "execution_count": null,
      "outputs": [
        {
          "output_type": "error",
          "ename": "TypeError",
          "evalue": "ignored",
          "traceback": [
            "\u001b[0;31m---------------------------------------------------------------------------\u001b[0m",
            "\u001b[0;31mTypeError\u001b[0m                                 Traceback (most recent call last)",
            "\u001b[0;32m<ipython-input-19-a764ae028345>\u001b[0m in \u001b[0;36m<module>\u001b[0;34m()\u001b[0m\n\u001b[1;32m     28\u001b[0m   \u001b[0mplt\u001b[0m\u001b[0;34m.\u001b[0m\u001b[0mshow\u001b[0m\u001b[0;34m(\u001b[0m\u001b[0;34m)\u001b[0m\u001b[0;34m\u001b[0m\u001b[0;34m\u001b[0m\u001b[0m\n\u001b[1;32m     29\u001b[0m \u001b[0;34m\u001b[0m\u001b[0m\n\u001b[0;32m---> 30\u001b[0;31m \u001b[0mloadModel\u001b[0m\u001b[0;34m(\u001b[0m\u001b[0mcombined_per36_col_list_2019\u001b[0m\u001b[0;34m)\u001b[0m\u001b[0;34m\u001b[0m\u001b[0;34m\u001b[0m\u001b[0m\n\u001b[0m",
            "\u001b[0;31mTypeError\u001b[0m: loadModel() missing 2 required positional arguments: 'category' and 'year'"
          ]
        }
      ]
    },
    {
      "cell_type": "code",
      "source": [
        "from sklearn.metrics import r2_score\n",
        "from sklearn.metrics import mean_squared_error\n",
        "# predicting the accuracy score\n",
        "score=r2_score(Y_test,Y_pred)\n",
        "print('r2 score is ',score)\n",
        "print('mean_sqrd_error is==',mean_squared_error(Y_test,Y_pred))\n",
        "print('root_mean_squared error of is==',np.sqrt(mean_squared_error(Y_test,Y_pred)))"
      ],
      "metadata": {
        "colab": {
          "base_uri": "https://localhost:8080/",
          "height": 232
        },
        "id": "V5JzcmnMl52z",
        "outputId": "16d9a356-abe4-4a45-e156-5c893a9b2007"
      },
      "execution_count": null,
      "outputs": [
        {
          "output_type": "error",
          "ename": "NameError",
          "evalue": "ignored",
          "traceback": [
            "\u001b[0;31m---------------------------------------------------------------------------\u001b[0m",
            "\u001b[0;31mNameError\u001b[0m                                 Traceback (most recent call last)",
            "\u001b[0;32m<ipython-input-28-17077fcb900e>\u001b[0m in \u001b[0;36m<module>\u001b[0;34m()\u001b[0m\n\u001b[1;32m      2\u001b[0m \u001b[0;32mfrom\u001b[0m \u001b[0msklearn\u001b[0m\u001b[0;34m.\u001b[0m\u001b[0mmetrics\u001b[0m \u001b[0;32mimport\u001b[0m \u001b[0mmean_squared_error\u001b[0m\u001b[0;34m\u001b[0m\u001b[0;34m\u001b[0m\u001b[0m\n\u001b[1;32m      3\u001b[0m \u001b[0;31m# predicting the accuracy score\u001b[0m\u001b[0;34m\u001b[0m\u001b[0;34m\u001b[0m\u001b[0;34m\u001b[0m\u001b[0m\n\u001b[0;32m----> 4\u001b[0;31m \u001b[0mscore\u001b[0m\u001b[0;34m=\u001b[0m\u001b[0mr2_score\u001b[0m\u001b[0;34m(\u001b[0m\u001b[0mY_test\u001b[0m\u001b[0;34m,\u001b[0m\u001b[0mY_pred\u001b[0m\u001b[0;34m)\u001b[0m\u001b[0;34m\u001b[0m\u001b[0;34m\u001b[0m\u001b[0m\n\u001b[0m\u001b[1;32m      5\u001b[0m \u001b[0mprint\u001b[0m\u001b[0;34m(\u001b[0m\u001b[0;34m'r2 score is '\u001b[0m\u001b[0;34m,\u001b[0m\u001b[0mscore\u001b[0m\u001b[0;34m)\u001b[0m\u001b[0;34m\u001b[0m\u001b[0;34m\u001b[0m\u001b[0m\n\u001b[1;32m      6\u001b[0m \u001b[0mprint\u001b[0m\u001b[0;34m(\u001b[0m\u001b[0;34m'mean_sqrd_error is=='\u001b[0m\u001b[0;34m,\u001b[0m\u001b[0mmean_squared_error\u001b[0m\u001b[0;34m(\u001b[0m\u001b[0mY_test\u001b[0m\u001b[0;34m,\u001b[0m\u001b[0mY_pred\u001b[0m\u001b[0;34m)\u001b[0m\u001b[0;34m)\u001b[0m\u001b[0;34m\u001b[0m\u001b[0;34m\u001b[0m\u001b[0m\n",
            "\u001b[0;31mNameError\u001b[0m: name 'Y_test' is not defined"
          ]
        }
      ]
    }
  ]
}